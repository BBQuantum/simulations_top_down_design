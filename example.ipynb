{
 "cells": [
  {
   "cell_type": "code",
   "execution_count": 6,
   "id": "2dd46496",
   "metadata": {},
   "outputs": [],
   "source": [
    "import numpy as np\n",
    "from TDCDesigner import TDCDesigner\n",
    "from scipy.stats import unitary_group\n",
    "\n"
   ]
  },
  {
   "cell_type": "code",
   "execution_count": 15,
   "id": "f58bddfe",
   "metadata": {},
   "outputs": [
    {
     "name": "stdout",
     "output_type": "stream",
     "text": [
      "F: 0.986564424210689 S: 0.4771634497314172\n"
     ]
    }
   ],
   "source": [
    "# Design Parameters\n",
    "d=5  # dimension of gate\n",
    "N=200 # Size of mode-mixers\n",
    "L=2  # Number of Layers\n",
    "\n",
    "\n",
    "K=L+2  # Initializing addtional layers before and after the circuit, for generality\n",
    "\n",
    "#Initialisation\n",
    "U=TDCDesigner(channel_size=N,logic_size=d,number_of_planes=K,verbose=0)\n",
    "\n",
    "# Asseting not to update first and last addtional laeyers\n",
    "U.dont_update_these_planes=[0,K-1]\n",
    "\n",
    "\n",
    "## Initilaise mode-mixers\n",
    "# 'RandSame': same random unitary matrix for every mode-mixer\n",
    "# 'RandDiff': different random unitary matrix for every mode-mixer\n",
    "# 'Identity': identity matrix for every mode-mixer\n",
    "# 'DFT': discret Fourier transform matrix for every mode-mixer\n",
    "\n",
    "U.initCircuit('RandSame')\n",
    "\n",
    "## Initialize input and output ports/modes to encode gate between\n",
    "# 'randxy': randomly choose d input and output modes from a set of N input and output modes\n",
    "# 'topfixed': choose first d input and output modes from a set of N input and output modes\n",
    "\n",
    "U.setXYports('randxy')\n",
    "\n",
    "\n",
    "## Set target gate to be encoded\n",
    "T=np.eye(d) # (d x d) Identity matrix \n",
    "U.setTarget(T)\n",
    "\n",
    "#Run wave-front matching \n",
    "U.WFM()  #Prints fidelity and Success Probability\n",
    "\n",
    "F=U.getFidelity()\n",
    "S=U.getSuccessProb()\n",
    "Tt=U.getTransform() # Get transformation upto a global phase\n"
   ]
  }
 ],
 "metadata": {
  "kernelspec": {
   "display_name": "Python 3 (ipykernel)",
   "language": "python",
   "name": "python3"
  },
  "language_info": {
   "codemirror_mode": {
    "name": "ipython",
    "version": 3
   },
   "file_extension": ".py",
   "mimetype": "text/x-python",
   "name": "python",
   "nbconvert_exporter": "python",
   "pygments_lexer": "ipython3",
   "version": "3.7.9"
  }
 },
 "nbformat": 4,
 "nbformat_minor": 5
}
